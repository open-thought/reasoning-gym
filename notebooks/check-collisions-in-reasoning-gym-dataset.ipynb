{
 "cells": [
  {
   "cell_type": "code",
   "execution_count": 1,
   "id": "42323371-404e-4e86-b8b8-a420b4c79303",
   "metadata": {},
   "outputs": [],
   "source": [
    "import reasoning_gym"
   ]
  },
  {
   "cell_type": "code",
   "execution_count": 2,
   "id": "f06e7932-6c77-4609-8a33-7c4d815841d6",
   "metadata": {},
   "outputs": [
    {
     "name": "stdout",
     "output_type": "stream",
     "text": [
      "Total number of data:  56\n"
     ]
    }
   ],
   "source": [
    "with open(\"data.txt\") as f:\n",
    "    data_names = f.readlines()\n",
    "    data_names = [name.strip() for name in data_names]\n",
    "    print(\"Total number of data: \", len(data_names))"
   ]
  },
  {
   "cell_type": "code",
   "execution_count": 3,
   "id": "d7a5a5bf-7428-46f5-a7f5-a46238df2543",
   "metadata": {},
   "outputs": [],
   "source": [
    "TOTAL = 10000\n",
    "collisions = []"
   ]
  },
  {
   "cell_type": "code",
   "execution_count": 4,
   "id": "7138aced-d61a-4e2a-9935-a9b251e6d554",
   "metadata": {},
   "outputs": [
    {
     "ename": "ValueError",
     "evalue": "Number 8032.499999999999 requires 12 decimals but only 2 allowed",
     "output_type": "error",
     "traceback": [
      "\u001b[31m---------------------------------------------------------------------------\u001b[39m",
      "\u001b[31mValueError\u001b[39m                                Traceback (most recent call last)",
      "\u001b[36mFile \u001b[39m\u001b[32m<timed exec>:5\u001b[39m\n",
      "\u001b[36mFile \u001b[39m\u001b[32m~/Desktop/deep-learning/reasoning-gym/reasoning_gym/dataset.py:44\u001b[39m, in \u001b[36mProceduralDataset.__next__\u001b[39m\u001b[34m(self)\u001b[39m\n\u001b[32m     42\u001b[39m \u001b[38;5;28;01mif\u001b[39;00m \u001b[38;5;28mself\u001b[39m._current_idx >= \u001b[38;5;28mself\u001b[39m.size:\n\u001b[32m     43\u001b[39m     \u001b[38;5;28;01mraise\u001b[39;00m \u001b[38;5;167;01mStopIteration\u001b[39;00m\n\u001b[32m---> \u001b[39m\u001b[32m44\u001b[39m item = \u001b[38;5;28;43mself\u001b[39;49m\u001b[43m[\u001b[49m\u001b[38;5;28;43mself\u001b[39;49m\u001b[43m.\u001b[49m\u001b[43m_current_idx\u001b[49m\u001b[43m]\u001b[49m\n\u001b[32m     45\u001b[39m \u001b[38;5;28mself\u001b[39m._current_idx += \u001b[32m1\u001b[39m\n\u001b[32m     46\u001b[39m \u001b[38;5;28;01mreturn\u001b[39;00m item\n",
      "\u001b[36mFile \u001b[39m\u001b[32m~/Desktop/deep-learning/reasoning-gym/reasoning_gym/arithmetic/gsm_symbolic/gsm_symbolic.py:154\u001b[39m, in \u001b[36mGSMSymbolicDataset.__getitem__\u001b[39m\u001b[34m(self, idx)\u001b[39m\n\u001b[32m    152\u001b[39m generator_idx = \u001b[38;5;28mself\u001b[39m.task_indices[idx]\n\u001b[32m    153\u001b[39m generator = \u001b[38;5;28mself\u001b[39m.generators[generator_idx]\n\u001b[32m--> \u001b[39m\u001b[32m154\u001b[39m example = \u001b[43mgenerator\u001b[49m\u001b[43m(\u001b[49m\u001b[43mrng\u001b[49m\u001b[43m,\u001b[49m\u001b[43m \u001b[49m\u001b[38;5;28;43mself\u001b[39;49m\u001b[43m.\u001b[49m\u001b[43mconfig\u001b[49m\u001b[43m.\u001b[49m\u001b[43mdifficulty\u001b[49m\u001b[43m)\u001b[49m\n\u001b[32m    155\u001b[39m example[\u001b[33m\"\u001b[39m\u001b[33mquestion\u001b[39m\u001b[33m\"\u001b[39m] += \u001b[33m\"\u001b[39m\u001b[33m Give the result as your final answer. Do not include units.\u001b[39m\u001b[33m\"\u001b[39m\n\u001b[32m    156\u001b[39m example[\u001b[33m\"\u001b[39m\u001b[33mmetadata\u001b[39m\u001b[33m\"\u001b[39m][\u001b[33m\"\u001b[39m\u001b[33msource_dataset\u001b[39m\u001b[33m\"\u001b[39m] = DATASET_NAME\n",
      "\u001b[36mFile \u001b[39m\u001b[32m~/Desktop/deep-learning/reasoning-gym/reasoning_gym/arithmetic/gsm_symbolic/generators_00_49.py:2118\u001b[39m, in \u001b[36mgenerate_27\u001b[39m\u001b[34m(rng, difficulty)\u001b[39m\n\u001b[32m   2105\u001b[39m     result = generate_from_variables(name, n, n_first, apartments, percent, freq, rate, currency)\n\u001b[32m   2107\u001b[39m     \u001b[38;5;28;01mreturn\u001b[39;00m {\n\u001b[32m   2108\u001b[39m         \u001b[33m\"\u001b[39m\u001b[33mquestion\u001b[39m\u001b[33m\"\u001b[39m: result[\u001b[33m\"\u001b[39m\u001b[33mquestion\u001b[39m\u001b[33m\"\u001b[39m],\n\u001b[32m   2109\u001b[39m         \u001b[33m\"\u001b[39m\u001b[33manswer\u001b[39m\u001b[33m\"\u001b[39m: result[\u001b[33m\"\u001b[39m\u001b[33manswer\u001b[39m\u001b[33m\"\u001b[39m],\n\u001b[32m   (...)\u001b[39m\u001b[32m   2115\u001b[39m         },\n\u001b[32m   2116\u001b[39m     }\n\u001b[32m-> \u001b[39m\u001b[32m2118\u001b[39m \u001b[38;5;28;01mreturn\u001b[39;00m \u001b[43mgenerate_example\u001b[49m\u001b[43m(\u001b[49m\u001b[43mrng\u001b[49m\u001b[43m,\u001b[49m\u001b[43m \u001b[49m\u001b[43mdifficulty\u001b[49m\u001b[43m)\u001b[49m\n",
      "\u001b[36mFile \u001b[39m\u001b[32m~/Desktop/deep-learning/reasoning-gym/reasoning_gym/arithmetic/gsm_symbolic/generators_00_49.py:2105\u001b[39m, in \u001b[36mgenerate_27.<locals>.generate_example\u001b[39m\u001b[34m(rng, difficulty)\u001b[39m\n\u001b[32m   2102\u001b[39m     apartments = \u001b[38;5;28mint\u001b[39m(rng.randrange(\u001b[32m100\u001b[39m, \u001b[38;5;28mint\u001b[39m(\u001b[32m500\u001b[39m * difficulty), \u001b[32m50\u001b[39m))\n\u001b[32m   2103\u001b[39m     percent = rng.randrange(\u001b[32m20\u001b[39m, \u001b[38;5;28mint\u001b[39m(\u001b[32m81\u001b[39m * difficulty), \u001b[32m5\u001b[39m)\n\u001b[32m-> \u001b[39m\u001b[32m2105\u001b[39m result = \u001b[43mgenerate_from_variables\u001b[49m\u001b[43m(\u001b[49m\u001b[43mname\u001b[49m\u001b[43m,\u001b[49m\u001b[43m \u001b[49m\u001b[43mn\u001b[49m\u001b[43m,\u001b[49m\u001b[43m \u001b[49m\u001b[43mn_first\u001b[49m\u001b[43m,\u001b[49m\u001b[43m \u001b[49m\u001b[43mapartments\u001b[49m\u001b[43m,\u001b[49m\u001b[43m \u001b[49m\u001b[43mpercent\u001b[49m\u001b[43m,\u001b[49m\u001b[43m \u001b[49m\u001b[43mfreq\u001b[49m\u001b[43m,\u001b[49m\u001b[43m \u001b[49m\u001b[43mrate\u001b[49m\u001b[43m,\u001b[49m\u001b[43m \u001b[49m\u001b[43mcurrency\u001b[49m\u001b[43m)\u001b[49m\n\u001b[32m   2107\u001b[39m \u001b[38;5;28;01mreturn\u001b[39;00m {\n\u001b[32m   2108\u001b[39m     \u001b[33m\"\u001b[39m\u001b[33mquestion\u001b[39m\u001b[33m\"\u001b[39m: result[\u001b[33m\"\u001b[39m\u001b[33mquestion\u001b[39m\u001b[33m\"\u001b[39m],\n\u001b[32m   2109\u001b[39m     \u001b[33m\"\u001b[39m\u001b[33manswer\u001b[39m\u001b[33m\"\u001b[39m: result[\u001b[33m\"\u001b[39m\u001b[33manswer\u001b[39m\u001b[33m\"\u001b[39m],\n\u001b[32m   (...)\u001b[39m\u001b[32m   2115\u001b[39m     },\n\u001b[32m   2116\u001b[39m }\n",
      "\u001b[36mFile \u001b[39m\u001b[32m~/Desktop/deep-learning/reasoning-gym/reasoning_gym/arithmetic/gsm_symbolic/generators_00_49.py:2068\u001b[39m, in \u001b[36mgenerate_27.<locals>.generate_from_variables\u001b[39m\u001b[34m(name, n, n_first, apartments_each, percent_bigger, freq, rate, currency)\u001b[39m\n\u001b[32m   2054\u001b[39m question = \u001b[33mf\u001b[39m\u001b[33m\"\u001b[39m\u001b[38;5;132;01m{\u001b[39;00mname\u001b[38;5;132;01m}\u001b[39;00m\u001b[33m collects garbage from \u001b[39m\u001b[38;5;132;01m{\u001b[39;00mn\u001b[38;5;132;01m}\u001b[39;00m\u001b[33m different apartment complexes. The first \u001b[39m\u001b[38;5;132;01m{\u001b[39;00mn_first\u001b[38;5;132;01m}\u001b[39;00m\u001b[33m have \u001b[39m\u001b[38;5;132;01m{\u001b[39;00mapartments_each\u001b[38;5;132;01m}\u001b[39;00m\u001b[33m apartments each and the last one is \u001b[39m\u001b[38;5;132;01m{\u001b[39;00mpercent_bigger\u001b[38;5;132;01m}\u001b[39;00m\u001b[33m% bigger than the other \u001b[39m\u001b[38;5;132;01m{\u001b[39;00mn_first\u001b[38;5;132;01m}\u001b[39;00m\u001b[33m combined. \u001b[39m\u001b[38;5;132;01m{\u001b[39;00mname\u001b[38;5;132;01m}\u001b[39;00m\u001b[33m collects garbage \u001b[39m\u001b[38;5;132;01m{\u001b[39;00mfreq\u001b[38;5;132;01m}\u001b[39;00m\u001b[33m times a week from each place and he gets paid \u001b[39m\u001b[38;5;132;01m{\u001b[39;00mcurrency\u001b[38;5;132;01m}\u001b[39;00m\u001b[38;5;132;01m{\u001b[39;00mrate\u001b[38;5;132;01m:\u001b[39;00m\u001b[33m.2f\u001b[39m\u001b[38;5;132;01m}\u001b[39;00m\u001b[33m per collection for each apartment. How much money does he make in a week?\u001b[39m\u001b[33m\"\u001b[39m\n\u001b[32m   2056\u001b[39m answer_cot = (\n\u001b[32m   2057\u001b[39m     \u001b[33mf\u001b[39m\u001b[33m\"\u001b[39m\u001b[33mThe first \u001b[39m\u001b[38;5;132;01m{\u001b[39;00mn_first\u001b[38;5;132;01m}\u001b[39;00m\u001b[33m complexes have \u001b[39m\u001b[38;5;132;01m{\u001b[39;00mfirst_two\u001b[38;5;132;01m}\u001b[39;00m\u001b[33m apartments\u001b[39m\u001b[38;5;130;01m\\n\u001b[39;00m\u001b[33m\"\u001b[39m\n\u001b[32m   2058\u001b[39m     \u001b[33mf\u001b[39m\u001b[33m\"\u001b[39m\u001b[33mThe third one has \u001b[39m\u001b[38;5;132;01m{\u001b[39;00mfirst_two\u001b[38;5;132;01m}\u001b[39;00m\u001b[33m*\u001b[39m\u001b[38;5;132;01m{\u001b[39;00mpercent_bigger/\u001b[32m100\u001b[39m\u001b[38;5;132;01m}\u001b[39;00m\u001b[33m=\u001b[39m\u001b[38;5;132;01m{\u001b[39;00mthird_complex\u001b[38;5;132;01m}\u001b[39;00m\u001b[33m more apartments than those \u001b[39m\u001b[38;5;132;01m{\u001b[39;00mn_first\u001b[38;5;132;01m}\u001b[39;00m\u001b[33m combined\u001b[39m\u001b[38;5;130;01m\\n\u001b[39;00m\u001b[33m\"\u001b[39m\n\u001b[32m   (...)\u001b[39m\u001b[32m   2063\u001b[39m     \u001b[33mf\u001b[39m\u001b[33m\"\u001b[39m\u001b[33m#### \u001b[39m\u001b[38;5;132;01m{\u001b[39;00mweekly_earnings\u001b[38;5;132;01m}\u001b[39;00m\u001b[33m\"\u001b[39m\n\u001b[32m   2064\u001b[39m )\n\u001b[32m   2066\u001b[39m \u001b[38;5;28;01mreturn\u001b[39;00m {\n\u001b[32m   2067\u001b[39m     \u001b[33m\"\u001b[39m\u001b[33mquestion\u001b[39m\u001b[33m\"\u001b[39m: question,\n\u001b[32m-> \u001b[39m\u001b[32m2068\u001b[39m     \u001b[33m\"\u001b[39m\u001b[33manswer\u001b[39m\u001b[33m\"\u001b[39m: \u001b[43mformat_number\u001b[49m\u001b[43m(\u001b[49m\u001b[43mweekly_earnings\u001b[49m\u001b[43m)\u001b[49m,\n\u001b[32m   2069\u001b[39m     \u001b[33m\"\u001b[39m\u001b[33manswer_cot\u001b[39m\u001b[33m\"\u001b[39m: answer_cot,\n\u001b[32m   2070\u001b[39m     \u001b[33m\"\u001b[39m\u001b[33manswer_value\u001b[39m\u001b[33m\"\u001b[39m: weekly_earnings,\n\u001b[32m   2071\u001b[39m     \u001b[33m\"\u001b[39m\u001b[33mvariables\u001b[39m\u001b[33m\"\u001b[39m: {\n\u001b[32m   2072\u001b[39m         \u001b[33m\"\u001b[39m\u001b[33mname\u001b[39m\u001b[33m\"\u001b[39m: name,\n\u001b[32m   2073\u001b[39m         \u001b[33m\"\u001b[39m\u001b[33mnum_complexes\u001b[39m\u001b[33m\"\u001b[39m: n,\n\u001b[32m   2074\u001b[39m         \u001b[33m\"\u001b[39m\u001b[33mfirst_complexes\u001b[39m\u001b[33m\"\u001b[39m: n_first,\n\u001b[32m   2075\u001b[39m         \u001b[33m\"\u001b[39m\u001b[33mapartments_per_complex\u001b[39m\u001b[33m\"\u001b[39m: apartments_each,\n\u001b[32m   2076\u001b[39m         \u001b[33m\"\u001b[39m\u001b[33mpercent_increase\u001b[39m\u001b[33m\"\u001b[39m: percent_bigger,\n\u001b[32m   2077\u001b[39m         \u001b[33m\"\u001b[39m\u001b[33mcollections_per_week\u001b[39m\u001b[33m\"\u001b[39m: freq,\n\u001b[32m   2078\u001b[39m         \u001b[33m\"\u001b[39m\u001b[33mrate_per_apartment\u001b[39m\u001b[33m\"\u001b[39m: rate,\n\u001b[32m   2079\u001b[39m         \u001b[33m\"\u001b[39m\u001b[33mcurrency\u001b[39m\u001b[33m\"\u001b[39m: currency,\n\u001b[32m   2080\u001b[39m         \u001b[33m\"\u001b[39m\u001b[33mtotal_apartments\u001b[39m\u001b[33m\"\u001b[39m: total_apartments,\n\u001b[32m   2081\u001b[39m         \u001b[33m\"\u001b[39m\u001b[33mweekly_visits\u001b[39m\u001b[33m\"\u001b[39m: weekly_visits,\n\u001b[32m   2082\u001b[39m     },\n\u001b[32m   2083\u001b[39m }\n",
      "\u001b[36mFile \u001b[39m\u001b[32m~/Desktop/deep-learning/reasoning-gym/reasoning_gym/utils.py:67\u001b[39m, in \u001b[36mformat_number\u001b[39m\u001b[34m(num, max_decimals, round_if_needed)\u001b[39m\n\u001b[32m     65\u001b[39m     required_decimals = \u001b[38;5;28mlen\u001b[39m(str_val.split(\u001b[33m\"\u001b[39m\u001b[33m.\u001b[39m\u001b[33m\"\u001b[39m)[\u001b[32m1\u001b[39m])\n\u001b[32m     66\u001b[39m     \u001b[38;5;28;01mif\u001b[39;00m required_decimals > max_decimals \u001b[38;5;129;01mand\u001b[39;00m \u001b[38;5;129;01mnot\u001b[39;00m round_if_needed:\n\u001b[32m---> \u001b[39m\u001b[32m67\u001b[39m         \u001b[38;5;28;01mraise\u001b[39;00m \u001b[38;5;167;01mValueError\u001b[39;00m(\u001b[33mf\u001b[39m\u001b[33m\"\u001b[39m\u001b[33mNumber \u001b[39m\u001b[38;5;132;01m{\u001b[39;00mnum\u001b[38;5;132;01m}\u001b[39;00m\u001b[33m requires \u001b[39m\u001b[38;5;132;01m{\u001b[39;00mrequired_decimals\u001b[38;5;132;01m}\u001b[39;00m\u001b[33m decimals but only \u001b[39m\u001b[38;5;132;01m{\u001b[39;00mmax_decimals\u001b[38;5;132;01m}\u001b[39;00m\u001b[33m allowed\u001b[39m\u001b[33m\"\u001b[39m)\n\u001b[32m     69\u001b[39m \u001b[38;5;66;03m# Format with required decimals (will round if needed)\u001b[39;00m\n\u001b[32m     70\u001b[39m result = \u001b[33mf\u001b[39m\u001b[33m\"\u001b[39m\u001b[38;5;132;01m{\u001b[39;00mnum\u001b[38;5;132;01m:\u001b[39;00m\u001b[33m.\u001b[39m\u001b[38;5;132;01m{\u001b[39;00mmax_decimals\u001b[38;5;132;01m}\u001b[39;00m\u001b[33mf\u001b[39m\u001b[38;5;132;01m}\u001b[39;00m\u001b[33m\"\u001b[39m.rstrip(\u001b[33m\"\u001b[39m\u001b[33m0\u001b[39m\u001b[33m\"\u001b[39m).rstrip(\u001b[33m\"\u001b[39m\u001b[33m.\u001b[39m\u001b[33m\"\u001b[39m)\n",
      "\u001b[31mValueError\u001b[39m: Number 8032.499999999999 requires 12 decimals but only 2 allowed"
     ]
    }
   ],
   "source": [
    "%%time\n",
    "for name in data_names:\n",
    "    data_1 = reasoning_gym.create_dataset(name, size=TOTAL, seed=1)\n",
    "    data_2 = reasoning_gym.create_dataset(name, size=TOTAL, seed=2)\n",
    "    count = 0\n",
    "    for item_1, item_2 in zip(data_1, data_2):\n",
    "        if item_1[\"question\"] == item_2[\"question\"]:\n",
    "            count += 1\n",
    "\n",
    "    # Add name, count to collisions.txt\n",
    "    with open('collisions_1.txt', 'a') as file:\n",
    "        file.write(f\"{name}, {count}\\n\")"
   ]
  },
  {
   "cell_type": "code",
   "execution_count": 9,
   "id": "933d03a5-7d97-49fc-beea-bb7bfa5fe941",
   "metadata": {},
   "outputs": [],
   "source": [
    "data_1 = reasoning_gym.create_dataset(\"basic_arithmetic\", size=TOTAL, seed=1)"
   ]
  },
  {
   "cell_type": "code",
   "execution_count": 10,
   "id": "897a0417-3211-4735-aafc-4c33b3c79d19",
   "metadata": {},
   "outputs": [
    {
     "data": {
      "text/plain": [
       "10000"
      ]
     },
     "execution_count": 10,
     "metadata": {},
     "output_type": "execute_result"
    }
   ],
   "source": [
    "len(data_1)"
   ]
  },
  {
   "cell_type": "code",
   "execution_count": 12,
   "id": "9c8561c7-a2da-405f-976e-ffb929d54c73",
   "metadata": {},
   "outputs": [],
   "source": [
    "data_2 = reasoning_gym.create_dataset(\"basic_arithmetic\", size=TOTAL, seed=2)"
   ]
  },
  {
   "cell_type": "code",
   "execution_count": 13,
   "id": "ba0dd690-8448-42ff-bb2c-55350928abd8",
   "metadata": {},
   "outputs": [
    {
     "data": {
      "text/plain": [
       "10000"
      ]
     },
     "execution_count": 13,
     "metadata": {},
     "output_type": "execute_result"
    }
   ],
   "source": [
    "len(data_2)"
   ]
  },
  {
   "cell_type": "code",
   "execution_count": 14,
   "id": "f3d1b1f6-bcf6-4f70-9168-33b3179ae171",
   "metadata": {},
   "outputs": [
    {
     "data": {
      "text/plain": [
       "{'question': 'Calculate -( -1 + ( 0 * -2 ) / 3 + 6 ).',\n",
       " 'answer': '-5',\n",
       " 'metadata': {'source_dataset': 'basic_arithmetic',\n",
       "  'source_index': 105,\n",
       "  'expression': '-( -1 + ( 0 * -2 ) / 3 + 6 )',\n",
       "  'num_terms': 5,\n",
       "  'num_digits': 1,\n",
       "  'difficulty': {'num_terms': (2, 6), 'num_digits': (1, 4)}}}"
      ]
     },
     "execution_count": 14,
     "metadata": {},
     "output_type": "execute_result"
    }
   ],
   "source": [
    "data_1[105]"
   ]
  },
  {
   "cell_type": "code",
   "execution_count": 15,
   "id": "74d31167-2d03-4844-b332-3e5cca5c0c23",
   "metadata": {},
   "outputs": [
    {
     "data": {
      "text/plain": [
       "{'question': 'Calculate -( -( -8861 * -813 ) ) * -3862.',\n",
       " 'answer': '-27821820966',\n",
       " 'metadata': {'source_dataset': 'basic_arithmetic',\n",
       "  'source_index': 105,\n",
       "  'expression': '-( -( -8861 * -813 ) ) * -3862',\n",
       "  'num_terms': 3,\n",
       "  'num_digits': 4,\n",
       "  'difficulty': {'num_terms': (2, 6), 'num_digits': (1, 4)}}}"
      ]
     },
     "execution_count": 15,
     "metadata": {},
     "output_type": "execute_result"
    }
   ],
   "source": [
    "data_2[105]"
   ]
  },
  {
   "cell_type": "code",
   "execution_count": null,
   "id": "51263e94-0867-4b2a-b205-ebafb316f811",
   "metadata": {},
   "outputs": [],
   "source": []
  }
 ],
 "metadata": {
  "kernelspec": {
   "display_name": "Python 3 (ipykernel)",
   "language": "python",
   "name": "python3"
  },
  "language_info": {
   "codemirror_mode": {
    "name": "ipython",
    "version": 3
   },
   "file_extension": ".py",
   "mimetype": "text/x-python",
   "name": "python",
   "nbconvert_exporter": "python",
   "pygments_lexer": "ipython3",
   "version": "3.11.11"
  }
 },
 "nbformat": 4,
 "nbformat_minor": 5
}
