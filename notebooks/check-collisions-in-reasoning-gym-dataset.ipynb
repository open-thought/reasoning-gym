{
 "cells": [
  {
   "cell_type": "code",
   "execution_count": 1,
   "id": "42323371-404e-4e86-b8b8-a420b4c79303",
   "metadata": {},
   "outputs": [],
   "source": [
    "import reasoning_gym"
   ]
  },
  {
   "cell_type": "code",
   "execution_count": 2,
   "id": "f06e7932-6c77-4609-8a33-7c4d815841d6",
   "metadata": {},
   "outputs": [
    {
     "name": "stdout",
     "output_type": "stream",
     "text": [
      "Total number of data:  56\n"
     ]
    }
   ],
   "source": [
    "with open(\"data.txt\") as f:\n",
    "    data_names = f.readlines()\n",
    "    data_names = [name.strip() for name in data_names]\n",
    "    print(\"Total number of data: \", len(data_names))"
   ]
  },
  {
   "cell_type": "code",
   "execution_count": 3,
   "id": "d7a5a5bf-7428-46f5-a7f5-a46238df2543",
   "metadata": {},
   "outputs": [],
   "source": [
    "TOTAL = 10000\n",
    "collisions = []"
   ]
  },
  {
   "cell_type": "code",
   "execution_count": 4,
   "id": "7138aced-d61a-4e2a-9935-a9b251e6d554",
   "metadata": {},
   "outputs": [
    {
     "ename": "ZeroDivisionError",
     "evalue": "integer division or modulo by zero",
     "output_type": "error",
     "traceback": [
      "\u001b[31m---------------------------------------------------------------------------\u001b[39m",
      "\u001b[31mZeroDivisionError\u001b[39m                         Traceback (most recent call last)",
      "\u001b[36mFile \u001b[39m\u001b[32m<timed exec>:5\u001b[39m\n",
      "\u001b[36mFile \u001b[39m\u001b[32m~/Desktop/deep-learning/reasoning-gym/reasoning_gym/dataset.py:44\u001b[39m, in \u001b[36mProceduralDataset.__next__\u001b[39m\u001b[34m(self)\u001b[39m\n\u001b[32m     42\u001b[39m \u001b[38;5;28;01mif\u001b[39;00m \u001b[38;5;28mself\u001b[39m._current_idx >= \u001b[38;5;28mself\u001b[39m.size:\n\u001b[32m     43\u001b[39m     \u001b[38;5;28;01mraise\u001b[39;00m \u001b[38;5;167;01mStopIteration\u001b[39;00m\n\u001b[32m---> \u001b[39m\u001b[32m44\u001b[39m item = \u001b[38;5;28;43mself\u001b[39;49m\u001b[43m[\u001b[49m\u001b[38;5;28;43mself\u001b[39;49m\u001b[43m.\u001b[49m\u001b[43m_current_idx\u001b[49m\u001b[43m]\u001b[49m\n\u001b[32m     45\u001b[39m \u001b[38;5;28mself\u001b[39m._current_idx += \u001b[32m1\u001b[39m\n\u001b[32m     46\u001b[39m \u001b[38;5;28;01mreturn\u001b[39;00m item\n",
      "\u001b[36mFile \u001b[39m\u001b[32m~/Desktop/deep-learning/reasoning-gym/reasoning_gym/arithmetic/basic_arithmetic.py:90\u001b[39m, in \u001b[36mBasicArithmeticDataset.__getitem__\u001b[39m\u001b[34m(self, idx)\u001b[39m\n\u001b[32m     87\u001b[39m num_digits = rng.randint(\u001b[38;5;28mself\u001b[39m.config.min_digits, \u001b[38;5;28mself\u001b[39m.config.max_digits)\n\u001b[32m     89\u001b[39m \u001b[38;5;28;01mif\u001b[39;00m \u001b[38;5;28mself\u001b[39m.config.allow_parentheses:\n\u001b[32m---> \u001b[39m\u001b[32m90\u001b[39m     expression, result = \u001b[38;5;28;43mself\u001b[39;49m\u001b[43m.\u001b[49m\u001b[43m_generate_complex_task\u001b[49m\u001b[43m(\u001b[49m\u001b[43mrng\u001b[49m\u001b[43m,\u001b[49m\u001b[43m \u001b[49m\u001b[43mnum_terms\u001b[49m\u001b[43m,\u001b[49m\u001b[43m \u001b[49m\u001b[43mnum_digits\u001b[49m\u001b[43m)\u001b[49m\n\u001b[32m     91\u001b[39m \u001b[38;5;28;01melse\u001b[39;00m:\n\u001b[32m     92\u001b[39m     expression, result = \u001b[38;5;28mself\u001b[39m._generate_simple_task(rng, num_terms, num_digits)\n",
      "\u001b[36mFile \u001b[39m\u001b[32m~/Desktop/deep-learning/reasoning-gym/reasoning_gym/arithmetic/basic_arithmetic.py:194\u001b[39m, in \u001b[36mBasicArithmeticDataset._generate_complex_task\u001b[39m\u001b[34m(self, rng, num_terms, num_digits)\u001b[39m\n\u001b[32m    192\u001b[39m         space_parts.append(p)\n\u001b[32m    193\u001b[39m     expression = \u001b[33m\"\u001b[39m\u001b[33m\"\u001b[39m.join(space_parts).strip()\n\u001b[32m--> \u001b[39m\u001b[32m194\u001b[39m result = \u001b[43meval_floordiv\u001b[49m\u001b[43m(\u001b[49m\u001b[43mexpression\u001b[49m\u001b[43m)\u001b[49m  \u001b[38;5;66;03m# Note: eval is safe here as we control the input\u001b[39;00m\n\u001b[32m    196\u001b[39m \u001b[38;5;28;01mreturn\u001b[39;00m expression, result\n",
      "\u001b[36mFile \u001b[39m\u001b[32m~/Desktop/deep-learning/reasoning-gym/reasoning_gym/arithmetic/basic_arithmetic.py:62\u001b[39m, in \u001b[36meval_floordiv\u001b[39m\u001b[34m(exp)\u001b[39m\n\u001b[32m     61\u001b[39m \u001b[38;5;28;01mdef\u001b[39;00m\u001b[38;5;250m \u001b[39m\u001b[34meval_floordiv\u001b[39m(exp: \u001b[38;5;28mstr\u001b[39m) -> \u001b[38;5;28mint\u001b[39m:\n\u001b[32m---> \u001b[39m\u001b[32m62\u001b[39m     \u001b[38;5;28;01mreturn\u001b[39;00m \u001b[38;5;28meval\u001b[39m(exp.replace(\u001b[33m\"\u001b[39m\u001b[33m/\u001b[39m\u001b[33m\"\u001b[39m, \u001b[33m\"\u001b[39m\u001b[33m//\u001b[39m\u001b[33m\"\u001b[39m))\n",
      "\u001b[36mFile \u001b[39m\u001b[32m<string>:1\u001b[39m\n",
      "\u001b[31mZeroDivisionError\u001b[39m: integer division or modulo by zero"
     ]
    }
   ],
   "source": [
    "%%time\n",
    "for name in data_names:\n",
    "    data_1 = reasoning_gym.create_dataset(name, size=TOTAL, seed=1)\n",
    "    data_2 = reasoning_gym.create_dataset(name, size=TOTAL, seed=2)\n",
    "    count = 0\n",
    "    for item_1, item_2 in zip(data_1, data_2):\n",
    "        if item_1[\"question\"] == item_2[\"question\"]:\n",
    "            count += 1\n",
    "\n",
    "    # Add name, count to collisions.txt\n",
    "    with open('collisions_1.txt', 'a') as file:\n",
    "        file.write(f\"{name}, {count}\\n\")"
   ]
  },
  {
   "cell_type": "code",
   "execution_count": 9,
   "id": "933d03a5-7d97-49fc-beea-bb7bfa5fe941",
   "metadata": {},
   "outputs": [],
   "source": [
    "data_1 = reasoning_gym.create_dataset(\"basic_arithmetic\", size=TOTAL, seed=1)"
   ]
  },
  {
   "cell_type": "code",
   "execution_count": 10,
   "id": "897a0417-3211-4735-aafc-4c33b3c79d19",
   "metadata": {},
   "outputs": [
    {
     "data": {
      "text/plain": [
       "10000"
      ]
     },
     "execution_count": 10,
     "metadata": {},
     "output_type": "execute_result"
    }
   ],
   "source": [
    "len(data_1)"
   ]
  },
  {
   "cell_type": "code",
   "execution_count": 12,
   "id": "9c8561c7-a2da-405f-976e-ffb929d54c73",
   "metadata": {},
   "outputs": [],
   "source": [
    "data_2 = reasoning_gym.create_dataset(\"basic_arithmetic\", size=TOTAL, seed=2)"
   ]
  },
  {
   "cell_type": "code",
   "execution_count": 13,
   "id": "ba0dd690-8448-42ff-bb2c-55350928abd8",
   "metadata": {},
   "outputs": [
    {
     "data": {
      "text/plain": [
       "10000"
      ]
     },
     "execution_count": 13,
     "metadata": {},
     "output_type": "execute_result"
    }
   ],
   "source": [
    "len(data_2)"
   ]
  },
  {
   "cell_type": "code",
   "execution_count": 14,
   "id": "f3d1b1f6-bcf6-4f70-9168-33b3179ae171",
   "metadata": {},
   "outputs": [
    {
     "data": {
      "text/plain": [
       "{'question': 'Calculate -( -1 + ( 0 * -2 ) / 3 + 6 ).',\n",
       " 'answer': '-5',\n",
       " 'metadata': {'source_dataset': 'basic_arithmetic',\n",
       "  'source_index': 105,\n",
       "  'expression': '-( -1 + ( 0 * -2 ) / 3 + 6 )',\n",
       "  'num_terms': 5,\n",
       "  'num_digits': 1,\n",
       "  'difficulty': {'num_terms': (2, 6), 'num_digits': (1, 4)}}}"
      ]
     },
     "execution_count": 14,
     "metadata": {},
     "output_type": "execute_result"
    }
   ],
   "source": [
    "data_1[105]"
   ]
  },
  {
   "cell_type": "code",
   "execution_count": 15,
   "id": "74d31167-2d03-4844-b332-3e5cca5c0c23",
   "metadata": {},
   "outputs": [
    {
     "data": {
      "text/plain": [
       "{'question': 'Calculate -( -( -8861 * -813 ) ) * -3862.',\n",
       " 'answer': '-27821820966',\n",
       " 'metadata': {'source_dataset': 'basic_arithmetic',\n",
       "  'source_index': 105,\n",
       "  'expression': '-( -( -8861 * -813 ) ) * -3862',\n",
       "  'num_terms': 3,\n",
       "  'num_digits': 4,\n",
       "  'difficulty': {'num_terms': (2, 6), 'num_digits': (1, 4)}}}"
      ]
     },
     "execution_count": 15,
     "metadata": {},
     "output_type": "execute_result"
    }
   ],
   "source": [
    "data_2[105]"
   ]
  },
  {
   "cell_type": "code",
   "execution_count": null,
   "id": "51263e94-0867-4b2a-b205-ebafb316f811",
   "metadata": {},
   "outputs": [],
   "source": []
  }
 ],
 "metadata": {
  "kernelspec": {
   "display_name": "Python 3 (ipykernel)",
   "language": "python",
   "name": "python3"
  },
  "language_info": {
   "codemirror_mode": {
    "name": "ipython",
    "version": 3
   },
   "file_extension": ".py",
   "mimetype": "text/x-python",
   "name": "python",
   "nbconvert_exporter": "python",
   "pygments_lexer": "ipython3",
   "version": "3.11.11"
  }
 },
 "nbformat": 4,
 "nbformat_minor": 5
}
