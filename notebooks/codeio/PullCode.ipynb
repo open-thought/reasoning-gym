{
 "cells": [
  {
   "cell_type": "markdown",
   "metadata": {},
   "source": [
    "Pull high quality raw code files from public repositories to be preprocessed into the CodeI/O format.\n",
    "\n",
    "We start with TheAlgorithms/Python, a large collection of algorithms implemented in Python with the convenient property that for each algorithm, all the code is contained within a single file."
   ]
  },
  {
   "cell_type": "code",
   "execution_count": 6,
   "metadata": {},
   "outputs": [
    {
     "name": "stdout",
     "output_type": "stream",
     "text": [
      "Cloning into 'Python'...\n",
      "remote: Enumerating objects: 20925, done.\u001b[K\n",
      "remote: Counting objects: 100% (12/12), done.\u001b[K\n",
      "remote: Compressing objects: 100% (10/10), done.\u001b[K\n",
      "remote: Total 20925 (delta 5), reused 2 (delta 2), pack-reused 20913 (from 3)\u001b[K\n",
      "Receiving objects: 100% (20925/20925), 14.84 MiB | 14.34 MiB/s, done.\n",
      "Resolving deltas: 100% (13462/13462), done.\n"
     ]
    }
   ],
   "source": [
    "!git clone https://github.com/TheAlgorithms/Python.git\n",
    "\n",
    "import shutil\n",
    "from pathlib import Path\n",
    "\n",
    "repo_dir = Path(\"Python\")\n",
    "raw_code_dir = Path(\"raw_files\")\n",
    "raw_code_dir.mkdir(exist_ok=True)\n",
    "\n",
    "def process_dir(directory: Path):\n",
    "    # Move all the Python code files to the raw code file directory\n",
    "    # Handles subdirectories recursively\n",
    "    dirname = directory.name\n",
    "    for file in directory.iterdir():\n",
    "        if file.is_dir():\n",
    "            process_dir(file)\n",
    "        elif file.name.endswith(\".py\") and file.name != \"__init__.py\":\n",
    "            file.rename(raw_code_dir / f\"{dirname}_{file.name}\")\n",
    "\n",
    "for repo_child in repo_dir.iterdir():\n",
    "    # For this repo, algorithms are divided into categories by subdirectories\n",
    "    if not repo_child.is_dir() or repo_child.name.startswith(\".\"):\n",
    "        continue\n",
    "    process_dir(repo_child)\n",
    "\n",
    "shutil.rmtree(repo_dir)"
   ]
  }
 ],
 "metadata": {
  "kernelspec": {
   "display_name": ".venv",
   "language": "python",
   "name": "python3"
  },
  "language_info": {
   "codemirror_mode": {
    "name": "ipython",
    "version": 3
   },
   "file_extension": ".py",
   "mimetype": "text/x-python",
   "name": "python",
   "nbconvert_exporter": "python",
   "pygments_lexer": "ipython3",
   "version": "3.11.1"
  }
 },
 "nbformat": 4,
 "nbformat_minor": 2
}
