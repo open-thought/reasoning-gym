{
 "cells": [
  {
   "cell_type": "markdown",
   "metadata": {},
   "source": [
    "Reformat the output JSON & code from the preprocessing step in `notebooks/codeio/PreprocessCode.ipynb`.\n",
    "\n",
    "The output format will align with the data we extract from existing CodeI/O dataset, in `notebooks/codeio.ipynb`."
   ]
  },
  {
   "cell_type": "code",
   "execution_count": 1,
   "metadata": {},
   "outputs": [],
   "source": [
    "import json\n",
    "import logging\n",
    "from pathlib import Path\n",
    "\n",
    "with open(Path(\"output/processed_code.jsonl\"), \"r\") as f:\n",
    "    samples = [json.loads(line) for line in f]\n",
    "\n",
    "for sample in samples:\n",
    "    main_code = sample[\"reference_code\"]\n",
    "    del sample[\"reference_code\"]\n",
    "    if \"def main(\" in main_code:\n",
    "        main_code = main_code.replace(\"def main(\", \"def main_solution(\")\n",
    "        logging.info(\"Replaced main function\")\n",
    "    sample[\"code_sample\"] = main_code\n",
    "\n",
    "    input_generator = sample[\"input_generator\"]\n",
    "    if \"def input_generator()\" in input_generator:\n",
    "        input_generator = input_generator.replace(\"def input_generator()\", \"def generate_inputs(random: Random)\")\n",
    "        logging.info(\"Replaced input generation function\")\n",
    "    sample[\"input_generator\"] = input_generator\n",
    "\n",
    "    sample[\"input_output_spec\"] = sample[\"parameters\"]\n",
    "    del sample[\"parameters\"]\n",
    "\n",
    "    sample[\"task_description\"] = sample[\"query\"]\n",
    "    del sample[\"query\"]\n",
    "\n",
    "with open(Path(\"output/formatted_code.jsonl\"), \"w\") as f:\n",
    "    for sample in samples:\n",
    "        f.write(json.dumps(sample) + \"\\n\")"
   ]
  },
  {
   "cell_type": "code",
   "execution_count": null,
   "metadata": {},
   "outputs": [],
   "source": []
  }
 ],
 "metadata": {
  "kernelspec": {
   "display_name": ".venv",
   "language": "python",
   "name": "python3"
  },
  "language_info": {
   "codemirror_mode": {
    "name": "ipython",
    "version": 3
   },
   "file_extension": ".py",
   "mimetype": "text/x-python",
   "name": "python",
   "nbconvert_exporter": "python",
   "pygments_lexer": "ipython3",
   "version": "3.11.1"
  }
 },
 "nbformat": 4,
 "nbformat_minor": 2
}
