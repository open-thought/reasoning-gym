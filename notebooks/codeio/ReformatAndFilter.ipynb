{
 "cells": [
  {
   "cell_type": "markdown",
   "metadata": {},
   "source": [
    "Reformat the output JSON & code from the preprocessing step in `notebooks/codeio/PreprocessCode.ipynb`.\n",
    "\n",
    "The output format will align with the data we extract from existing CodeI/O dataset, in `notebooks/codeio.ipynb`."
   ]
  },
  {
   "cell_type": "code",
   "execution_count": 1,
   "metadata": {},
   "outputs": [],
   "source": [
    "import json\n",
    "from pathlib import Path\n",
    "\n",
    "with open(Path(\"output/processed_code.jsonl\"), \"r\") as f:\n",
    "    samples = [json.loads(line) for line in f]\n",
    "\n",
    "for sample in samples:\n",
    "    main_code = sample[\"reference_code\"]\n",
    "    del sample[\"reference_code\"]\n",
    "    if \"def main(\" in main_code:\n",
    "        main_code = main_code.replace(\"def main(\", \"def main_solution(\")\n",
    "    sample[\"code_sample\"] = main_code\n",
    "\n",
    "    input_generator = sample[\"input_generator\"]\n",
    "    if \"def input_generator()\" in input_generator:\n",
    "        input_generator = input_generator.replace(\"def input_generator()\", \"def generate_inputs(random: Random)\")\n",
    "    if \"import random\" in input_generator:\n",
    "        input_generator = input_generator.replace(\"import random\\n    \", \"\").replace(\"import random\\n\", \"\")\n",
    "    sample[\"input_generator\"] = input_generator\n",
    "\n",
    "    sample[\"input_output_spec\"] = sample[\"parameters\"]\n",
    "    del sample[\"parameters\"]\n",
    "\n",
    "    sample[\"task_description\"] = sample[\"query\"]\n",
    "    del sample[\"query\"]\n",
    "\n",
    "with open(Path(\"output/formatted_code.jsonl\"), \"w\") as f:\n",
    "    for sample in samples:\n",
    "        f.write(json.dumps(sample) + \"\\n\")"
   ]
  },
  {
   "cell_type": "markdown",
   "metadata": {},
   "source": [
    "Now we need to filter out unsuitable samples from the data. First we prioritise samples which are inherently random, reliant on external services (e.g. network requests), or whose input generators do not match the correct random usage requirements, as this could cause irreproducibility in RL training."
   ]
  },
  {
   "cell_type": "code",
   "execution_count": 2,
   "metadata": {},
   "outputs": [
    {
     "name": "stdout",
     "output_type": "stream",
     "text": [
      "Removing sample 6 due to bad input generator\n",
      "Removing sample 8 due to bad input generator\n",
      "Removing sample 28 due to bad input generator\n",
      "Removing sample 30 due to bad input generator\n",
      "Removing sample 39 due to bad main solution\n",
      "Removing sample 43 due to bad main solution\n",
      "Removing sample 47 due to bad main solution\n",
      "Removing sample 53 due to bad input generator\n",
      "Removing sample 59 due to bad input generator\n",
      "Removing sample 64 due to bad main solution\n",
      "Removing sample 87 due to bad main solution\n",
      "Removing sample 112 due to bad main solution\n",
      "Removing sample 116 due to bad main solution\n",
      "Removing sample 121 due to bad input generator\n",
      "Removing sample 141 due to bad main solution\n",
      "Removing sample 144 due to bad main solution\n",
      "Removing sample 150 due to bad main solution\n",
      "Removing sample 155 due to bad main solution\n",
      "Removing sample 159 due to bad main solution\n",
      "Removing sample 162 due to bad input generator\n",
      "Removing sample 168 due to bad input generator\n",
      "Removing sample 170 due to bad main solution\n",
      "Removing sample 189 due to bad input generator\n",
      "Removing sample 206 due to bad input generator\n",
      "Removing sample 236 due to bad main solution\n",
      "Removing sample 245 due to bad main solution\n",
      "Removing sample 253 due to bad main solution\n",
      "Removing sample 255 due to bad main solution\n",
      "Removing sample 279 due to bad main solution\n",
      "Removing sample 320 due to bad input generator\n",
      "Removing sample 324 due to bad main solution\n",
      "Removing sample 339 due to bad main solution\n",
      "Removing sample 346 due to bad main solution\n",
      "Removing sample 371 due to bad input generator\n",
      "Removing sample 372 due to bad input generator\n",
      "Removing sample 375 due to bad main solution\n",
      "Removing sample 390 due to bad input generator\n",
      "Removing sample 415 due to bad input generator\n",
      "Removing sample 422 due to bad input generator\n",
      "Removing sample 429 due to bad input generator\n",
      "Removing sample 434 due to bad main solution\n",
      "Removing sample 453 due to bad input generator\n",
      "Removing sample 461 due to bad main solution\n",
      "Removing sample 463 due to bad main solution\n",
      "Removing sample 465 due to bad main solution\n",
      "Removing sample 471 due to bad input generator\n",
      "Removing sample 475 due to bad input generator\n",
      "Removing sample 482 due to bad main solution\n",
      "Removing sample 500 due to bad main solution\n",
      "Removing sample 507 due to bad input generator\n",
      "Removing sample 508 due to bad input generator\n",
      "Removing sample 510 due to bad input generator\n",
      "Removing sample 516 due to bad main solution\n",
      "Removing sample 517 due to bad main solution\n",
      "Removing sample 529 due to bad input generator\n",
      "Removing sample 558 due to bad main solution\n",
      "Removing sample 570 due to bad main solution\n",
      "Removing sample 595 due to bad main solution\n",
      "Removing sample 596 due to bad input generator\n",
      "Removing sample 605 due to bad main solution\n",
      "Removing sample 622 due to bad main solution\n",
      "Removing sample 635 due to bad main solution\n",
      "Removing sample 639 due to bad main solution\n",
      "Removing sample 653 due to bad main solution\n",
      "Removing sample 662 due to bad input generator\n",
      "Removing sample 663 due to bad main solution\n",
      "Removing sample 678 due to bad input generator\n",
      "Removing sample 686 due to bad input generator\n",
      "Removing sample 687 due to bad main solution\n",
      "Removing sample 704 due to bad main solution\n",
      "Removing sample 737 due to bad main solution\n",
      "Removing sample 773 due to bad main solution\n",
      "Removing sample 778 due to bad input generator\n",
      "Removing sample 793 due to bad input generator\n",
      "Removing sample 798 due to bad main solution\n",
      "Removing sample 819 due to bad main solution\n",
      "Removing sample 823 due to bad input generator\n",
      "Removing sample 834 due to bad main solution\n",
      "Removing sample 840 due to bad main solution\n",
      "Removing sample 844 due to bad input generator\n",
      "Removing sample 861 due to bad input generator\n",
      "Removed 81 samples\n"
     ]
    }
   ],
   "source": [
    "def verify_input_generator(input_generator_code):\n",
    "    if \"def generate_inputs(random: Random)\" not in input_generator_code and \"def generate_inputs(rng: Random)\" not in input_generator_code:\n",
    "        return False\n",
    "    if \"import numpy\" in input_generator_code or \"np.random\" in input_generator_code:\n",
    "        return False\n",
    "    if \"import random\" in input_generator_code:\n",
    "        return False\n",
    "    return True\n",
    "\n",
    "def verify_main_solution(main_solution_code):\n",
    "    if \"def main_solution(\" not in main_solution_code:\n",
    "        return False\n",
    "    if \"import random\" in main_solution_code:\n",
    "        return False\n",
    "    if \"from random import\" in main_solution_code:\n",
    "        return False\n",
    "    if \"np.random\" in main_solution_code:\n",
    "        return False\n",
    "    if \"import requests\" in main_solution_code or \" requests.\" in main_solution_code or \"from requests import\" in main_solution_code:\n",
    "        return False\n",
    "    return True\n",
    "\n",
    "remove = set()\n",
    "for i, sample in enumerate(samples):\n",
    "    if not verify_input_generator(sample[\"input_generator\"]):\n",
    "        remove.add(i)\n",
    "        print(f\"Removing sample {i} due to bad input generator\")\n",
    "    elif not verify_main_solution(sample[\"code_sample\"]):\n",
    "        remove.add(i)\n",
    "        print(f\"Removing sample {i} due to bad main solution\")\n",
    "\n",
    "removed_samples = [sample for i, sample in enumerate(samples) if i in remove]\n",
    "samples = [sample for i, sample in enumerate(samples) if i not in remove]\n",
    "print(f\"Removed {len(remove)} samples\")\n",
    "\n",
    "with open(Path(\"output/filtered_code.jsonl\"), \"w\") as f:\n",
    "    for sample in samples:\n",
    "        f.write(json.dumps(sample) + \"\\n\")"
   ]
  },
  {
   "cell_type": "code",
   "execution_count": 3,
   "metadata": {},
   "outputs": [
    {
     "data": {
      "text/plain": [
       "'def generate_inputs(random: Random):\\n    import numpy as np\\n    \\n    height = random.randint(10, 20)\\n    width = random.randint(10, 20)\\n    image0 = np.random.rand(height, width)\\n    image1 = np.random.rand(height, width)\\n    num_iter = random.randint(10, 100)\\n    alpha = random.uniform(0.01, 1.0) if random.choice([True, False]) else None\\n\\n    return {\"image0\": image0, \"image1\": image1, \"num_iter\": num_iter, \"alpha\": alpha}'"
      ]
     },
     "execution_count": 3,
     "metadata": {},
     "output_type": "execute_result"
    }
   ],
   "source": [
    "removed_samples[0][\"input_generator\"]"
   ]
  },
  {
   "cell_type": "code",
   "execution_count": 4,
   "metadata": {},
   "outputs": [
    {
     "data": {
      "text/plain": [
       "'def main_solution(search_terms):\\n    import requests\\n    from bs4 import BeautifulSoup\\n    from fake_useragent import UserAgent\\n    import webbrowser\\n\\n    url = \"https://www.google.com/search?q=\" + \" \".join(search_terms)\\n    res = requests.get(url, headers={\"UserAgent\": UserAgent().random}, timeout=10)\\n    soup = BeautifulSoup(res.text, \"html.parser\")\\n    links = list(soup.select(\".eZt8xd\"))[:5]\\n\\n    opened_links = []\\n    for link in links:\\n        if link.text == \"Maps\":\\n            opened_links.append(link.get(\"href\"))\\n            webbrowser.open(link.get(\"href\"))\\n        else:\\n            opened_links.append(f\"https://google.com{link.get(\\'href\\')}\")\\n            webbrowser.open(f\"https://google.com{link.get(\\'href\\')}\")\\n\\n    return {\"opened_links\": opened_links}'"
      ]
     },
     "execution_count": 4,
     "metadata": {},
     "output_type": "execute_result"
    }
   ],
   "source": [
    "removed_samples[43][\"code_sample\"]"
   ]
  },
  {
   "cell_type": "code",
   "execution_count": null,
   "metadata": {},
   "outputs": [],
   "source": []
  }
 ],
 "metadata": {
  "kernelspec": {
   "display_name": ".venv",
   "language": "python",
   "name": "python3"
  },
  "language_info": {
   "codemirror_mode": {
    "name": "ipython",
    "version": 3
   },
   "file_extension": ".py",
   "mimetype": "text/x-python",
   "name": "python",
   "nbconvert_exporter": "python",
   "pygments_lexer": "ipython3",
   "version": "3.11.1"
  }
 },
 "nbformat": 4,
 "nbformat_minor": 2
}
