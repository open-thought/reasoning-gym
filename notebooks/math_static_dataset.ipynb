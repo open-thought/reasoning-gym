{
 "cells": [
  {
   "cell_type": "code",
   "execution_count": 22,
   "id": "41ad847d",
   "metadata": {},
   "outputs": [],
   "source": [
    "from pathlib import Path \n",
    "import json\n",
    "from reasoning_gym.utils import SYSTEM_PROMPTS"
   ]
  },
  {
   "cell_type": "code",
   "execution_count": 23,
   "id": "fdade008",
   "metadata": {},
   "outputs": [
    {
     "name": "stdout",
     "output_type": "stream",
     "text": [
      "Loaded 24000 samples from 2 evals\n"
     ]
    }
   ],
   "source": [
    "# Load all samples\n",
    "evals = [\n",
    "    Path(\"./eval/math-traces/x-ai_grok-3-mini-beta_easy\"),\n",
    "    Path(\"./eval/math-traces/x-ai_grok-3-mini-beta_medium\"),\n",
    "]\n",
    "\n",
    "samples = [] \n",
    "\n",
    "for eval in evals:\n",
    "    for category in eval.iterdir():\n",
    "        if not category.is_dir():\n",
    "            continue\n",
    "        for dataset in category.iterdir():\n",
    "            with open(dataset, \"r\") as f:\n",
    "                data = json.load(f)\n",
    "            \n",
    "            for sample in data[\"results\"]:\n",
    "                samples.append({\n",
    "                    \"question\": sample[\"question\"],\n",
    "                    \"answer\": sample[\"best_model_answer\"],\n",
    "                    \"full_answer\": sample[\"best_full_model_response\"],\n",
    "                    \"score\": sample[\"best_score\"],\n",
    "                    \"metadata\": sample[\"metadata\"],\n",
    "                })\n",
    "\n",
    "print(f\"Loaded {len(samples)} samples from {len(evals)} evals\")"
   ]
  },
  {
   "cell_type": "code",
   "execution_count": 24,
   "id": "90e162dd",
   "metadata": {},
   "outputs": [
    {
     "name": "stdout",
     "output_type": "stream",
     "text": [
      "Filtered samples: 17649\n"
     ]
    }
   ],
   "source": [
    "# Filter out samples with score less than a given threshold\n",
    "THRESHOLD = 0.9\n",
    "filtered_samples = [sample for sample in samples if sample[\"score\"] >= THRESHOLD]\n",
    "print(f\"Filtered samples: {len(filtered_samples)}\")"
   ]
  },
  {
   "cell_type": "code",
   "execution_count": 25,
   "id": "f02e8d4f",
   "metadata": {},
   "outputs": [
    {
     "name": "stdout",
     "output_type": "stream",
     "text": [
      "Filtered samples for RL training saved to training/data/train_rl.jsonl\n",
      "Filtered samples for SFT saved to training/data/train_sft.json\n"
     ]
    }
   ],
   "source": [
    "# Save the filtered samples for RL training\n",
    "output_path = Path(\"./training/data/train_rl.jsonl\")\n",
    "output_path.parent.mkdir(parents=True, exist_ok=True)\n",
    "with open(output_path, \"w\") as f:\n",
    "    for sample in filtered_samples:\n",
    "        f.write(json.dumps(sample) + \"\\n\")\n",
    "print(f\"Filtered samples for RL training saved to {output_path}\")\n",
    "\n",
    "\n",
    "# Save the filtered samples for Supervised Fine-Tuning (SFT)\n",
    "output_path_sft = Path(\"./training/data/train_sft.json\")\n",
    "output_path_sft.parent.mkdir(parents=True, exist_ok=True)\n",
    "\n",
    "sft_samples = [\n",
    "    {\n",
    "        \"messages\": [\n",
    "            {\n",
    "                \"role\": \"system\",\n",
    "                \"content\": SYSTEM_PROMPTS[\"DeepSeekZero\"]\n",
    "            },\n",
    "            {\n",
    "                \"role\": \"user\",\n",
    "                \"content\": sample[\"question\"]\n",
    "            },\n",
    "            {\n",
    "                \"role\": \"assistant\",\n",
    "                \"content\": sample[\"full_answer\"]\n",
    "            }\n",
    "        ]\n",
    "    }\n",
    "    for sample in filtered_samples\n",
    "]\n",
    "\n",
    "with open(output_path_sft, \"w\") as f:\n",
    "    json.dump(sft_samples, f, indent=4)\n",
    "print(f\"Filtered samples for SFT saved to {output_path_sft}\")"
   ]
  },
  {
   "cell_type": "code",
   "execution_count": null,
   "id": "b728c183",
   "metadata": {},
   "outputs": [],
   "source": []
  }
 ],
 "metadata": {
  "kernelspec": {
   "display_name": "reasoning_gym",
   "language": "python",
   "name": "python3"
  },
  "language_info": {
   "codemirror_mode": {
    "name": "ipython",
    "version": 3
   },
   "file_extension": ".py",
   "mimetype": "text/x-python",
   "name": "python",
   "nbconvert_exporter": "python",
   "pygments_lexer": "ipython3",
   "version": "3.11.11"
  }
 },
 "nbformat": 4,
 "nbformat_minor": 5
}
